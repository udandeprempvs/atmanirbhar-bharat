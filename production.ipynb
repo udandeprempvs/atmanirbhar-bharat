{
 "cells": [
  {
   "cell_type": "code",
   "execution_count": 37,
   "metadata": {},
   "outputs": [],
   "source": [
    "import pandas as pd\n",
    "import matplotlib.pyplot as plt\n",
    "import seaborn as sns\n",
    "import numpy as np"
   ]
  },
  {
   "cell_type": "code",
   "execution_count": 38,
   "metadata": {},
   "outputs": [
    {
     "data": {
      "text/html": [
       "<div>\n",
       "<style scoped>\n",
       "    .dataframe tbody tr th:only-of-type {\n",
       "        vertical-align: middle;\n",
       "    }\n",
       "\n",
       "    .dataframe tbody tr th {\n",
       "        vertical-align: top;\n",
       "    }\n",
       "\n",
       "    .dataframe thead th {\n",
       "        text-align: right;\n",
       "    }\n",
       "</style>\n",
       "<table border=\"1\" class=\"dataframe\">\n",
       "  <thead>\n",
       "    <tr style=\"text-align: right;\">\n",
       "      <th></th>\n",
       "      <th>State_Name</th>\n",
       "      <th>District_Name</th>\n",
       "      <th>Crop_Year</th>\n",
       "      <th>Season</th>\n",
       "      <th>Crop</th>\n",
       "      <th>Area</th>\n",
       "      <th>Production</th>\n",
       "    </tr>\n",
       "  </thead>\n",
       "  <tbody>\n",
       "    <tr>\n",
       "      <th>0</th>\n",
       "      <td>Andaman and Nicobar Islands</td>\n",
       "      <td>NICOBARS</td>\n",
       "      <td>2000</td>\n",
       "      <td>Kharif</td>\n",
       "      <td>Arecanut</td>\n",
       "      <td>1254.0</td>\n",
       "      <td>2000</td>\n",
       "    </tr>\n",
       "    <tr>\n",
       "      <th>1</th>\n",
       "      <td>Andaman and Nicobar Islands</td>\n",
       "      <td>NICOBARS</td>\n",
       "      <td>2000</td>\n",
       "      <td>Kharif</td>\n",
       "      <td>Other Kharif pulses</td>\n",
       "      <td>2.0</td>\n",
       "      <td>1</td>\n",
       "    </tr>\n",
       "    <tr>\n",
       "      <th>2</th>\n",
       "      <td>Andaman and Nicobar Islands</td>\n",
       "      <td>NICOBARS</td>\n",
       "      <td>2000</td>\n",
       "      <td>Kharif</td>\n",
       "      <td>Rice</td>\n",
       "      <td>102.0</td>\n",
       "      <td>321</td>\n",
       "    </tr>\n",
       "    <tr>\n",
       "      <th>3</th>\n",
       "      <td>Andaman and Nicobar Islands</td>\n",
       "      <td>NICOBARS</td>\n",
       "      <td>2000</td>\n",
       "      <td>Whole Year</td>\n",
       "      <td>Banana</td>\n",
       "      <td>176.0</td>\n",
       "      <td>641</td>\n",
       "    </tr>\n",
       "    <tr>\n",
       "      <th>4</th>\n",
       "      <td>Andaman and Nicobar Islands</td>\n",
       "      <td>NICOBARS</td>\n",
       "      <td>2000</td>\n",
       "      <td>Whole Year</td>\n",
       "      <td>Cashewnut</td>\n",
       "      <td>720.0</td>\n",
       "      <td>165</td>\n",
       "    </tr>\n",
       "    <tr>\n",
       "      <th>5</th>\n",
       "      <td>Andaman and Nicobar Islands</td>\n",
       "      <td>NICOBARS</td>\n",
       "      <td>2000</td>\n",
       "      <td>Whole Year</td>\n",
       "      <td>Coconut</td>\n",
       "      <td>18168.0</td>\n",
       "      <td>65100000</td>\n",
       "    </tr>\n",
       "    <tr>\n",
       "      <th>6</th>\n",
       "      <td>Andaman and Nicobar Islands</td>\n",
       "      <td>NICOBARS</td>\n",
       "      <td>2000</td>\n",
       "      <td>Whole Year</td>\n",
       "      <td>Dry ginger</td>\n",
       "      <td>36.0</td>\n",
       "      <td>100</td>\n",
       "    </tr>\n",
       "    <tr>\n",
       "      <th>7</th>\n",
       "      <td>Andaman and Nicobar Islands</td>\n",
       "      <td>NICOBARS</td>\n",
       "      <td>2000</td>\n",
       "      <td>Whole Year</td>\n",
       "      <td>Sugarcane</td>\n",
       "      <td>1.0</td>\n",
       "      <td>2</td>\n",
       "    </tr>\n",
       "    <tr>\n",
       "      <th>8</th>\n",
       "      <td>Andaman and Nicobar Islands</td>\n",
       "      <td>NICOBARS</td>\n",
       "      <td>2000</td>\n",
       "      <td>Whole Year</td>\n",
       "      <td>Sweet potato</td>\n",
       "      <td>5.0</td>\n",
       "      <td>15</td>\n",
       "    </tr>\n",
       "    <tr>\n",
       "      <th>9</th>\n",
       "      <td>Andaman and Nicobar Islands</td>\n",
       "      <td>NICOBARS</td>\n",
       "      <td>2000</td>\n",
       "      <td>Whole Year</td>\n",
       "      <td>Tapioca</td>\n",
       "      <td>40.0</td>\n",
       "      <td>169</td>\n",
       "    </tr>\n",
       "  </tbody>\n",
       "</table>\n",
       "</div>"
      ],
      "text/plain": [
       "                    State_Name District_Name  Crop_Year       Season  \\\n",
       "0  Andaman and Nicobar Islands      NICOBARS       2000  Kharif        \n",
       "1  Andaman and Nicobar Islands      NICOBARS       2000  Kharif        \n",
       "2  Andaman and Nicobar Islands      NICOBARS       2000  Kharif        \n",
       "3  Andaman and Nicobar Islands      NICOBARS       2000  Whole Year    \n",
       "4  Andaman and Nicobar Islands      NICOBARS       2000  Whole Year    \n",
       "5  Andaman and Nicobar Islands      NICOBARS       2000  Whole Year    \n",
       "6  Andaman and Nicobar Islands      NICOBARS       2000  Whole Year    \n",
       "7  Andaman and Nicobar Islands      NICOBARS       2000  Whole Year    \n",
       "8  Andaman and Nicobar Islands      NICOBARS       2000  Whole Year    \n",
       "9  Andaman and Nicobar Islands      NICOBARS       2000  Whole Year    \n",
       "\n",
       "                  Crop     Area Production  \n",
       "0             Arecanut   1254.0       2000  \n",
       "1  Other Kharif pulses      2.0          1  \n",
       "2                 Rice    102.0        321  \n",
       "3               Banana    176.0        641  \n",
       "4            Cashewnut    720.0        165  \n",
       "5             Coconut   18168.0   65100000  \n",
       "6           Dry ginger     36.0        100  \n",
       "7            Sugarcane      1.0          2  \n",
       "8         Sweet potato      5.0         15  \n",
       "9              Tapioca     40.0        169  "
      ]
     },
     "execution_count": 38,
     "metadata": {},
     "output_type": "execute_result"
    }
   ],
   "source": [
    "df = pd.read_csv(\"C:/Users/evils boi/Desktop/AgrcultureDataset.csv\")\n",
    "df.head(10)"
   ]
  },
  {
   "cell_type": "markdown",
   "metadata": {},
   "source": [
    "# Data Cleaning\n"
   ]
  },
  {
   "cell_type": "code",
   "execution_count": 39,
   "metadata": {},
   "outputs": [],
   "source": [
    "df_new=df[df.Crop_Year>2000]"
   ]
  },
  {
   "cell_type": "code",
   "execution_count": 40,
   "metadata": {},
   "outputs": [
    {
     "data": {
      "text/html": [
       "<div>\n",
       "<style scoped>\n",
       "    .dataframe tbody tr th:only-of-type {\n",
       "        vertical-align: middle;\n",
       "    }\n",
       "\n",
       "    .dataframe tbody tr th {\n",
       "        vertical-align: top;\n",
       "    }\n",
       "\n",
       "    .dataframe thead th {\n",
       "        text-align: right;\n",
       "    }\n",
       "</style>\n",
       "<table border=\"1\" class=\"dataframe\">\n",
       "  <thead>\n",
       "    <tr style=\"text-align: right;\">\n",
       "      <th></th>\n",
       "      <th>Crop_Year</th>\n",
       "      <th>Area</th>\n",
       "    </tr>\n",
       "  </thead>\n",
       "  <tbody>\n",
       "    <tr>\n",
       "      <th>count</th>\n",
       "      <td>199486.000000</td>\n",
       "      <td>1.994860e+05</td>\n",
       "    </tr>\n",
       "    <tr>\n",
       "      <th>mean</th>\n",
       "      <td>2007.273563</td>\n",
       "      <td>1.118434e+04</td>\n",
       "    </tr>\n",
       "    <tr>\n",
       "      <th>std</th>\n",
       "      <td>3.992022</td>\n",
       "      <td>3.705155e+04</td>\n",
       "    </tr>\n",
       "    <tr>\n",
       "      <th>min</th>\n",
       "      <td>2001.000000</td>\n",
       "      <td>4.000000e-02</td>\n",
       "    </tr>\n",
       "    <tr>\n",
       "      <th>25%</th>\n",
       "      <td>2004.000000</td>\n",
       "      <td>7.200000e+01</td>\n",
       "    </tr>\n",
       "    <tr>\n",
       "      <th>50%</th>\n",
       "      <td>2007.000000</td>\n",
       "      <td>5.140000e+02</td>\n",
       "    </tr>\n",
       "    <tr>\n",
       "      <th>75%</th>\n",
       "      <td>2011.000000</td>\n",
       "      <td>3.948750e+03</td>\n",
       "    </tr>\n",
       "    <tr>\n",
       "      <th>max</th>\n",
       "      <td>2015.000000</td>\n",
       "      <td>1.020181e+06</td>\n",
       "    </tr>\n",
       "  </tbody>\n",
       "</table>\n",
       "</div>"
      ],
      "text/plain": [
       "           Crop_Year          Area\n",
       "count  199486.000000  1.994860e+05\n",
       "mean     2007.273563  1.118434e+04\n",
       "std         3.992022  3.705155e+04\n",
       "min      2001.000000  4.000000e-02\n",
       "25%      2004.000000  7.200000e+01\n",
       "50%      2007.000000  5.140000e+02\n",
       "75%      2011.000000  3.948750e+03\n",
       "max      2015.000000  1.020181e+06"
      ]
     },
     "execution_count": 40,
     "metadata": {},
     "output_type": "execute_result"
    }
   ],
   "source": [
    "df_new.describe()"
   ]
  },
  {
   "cell_type": "code",
   "execution_count": 41,
   "metadata": {},
   "outputs": [],
   "source": [
    "df_crop = df_new[(df_new.Crop==\"Rice\") | (df_new.Crop==\"Wheat\") | (df_new.Crop==\"Sugarcane\") | (df_new.Crop==\"Cashewnut\") | (df_new.Crop==\"Onion\") | (df_new.Crop==\"Coconut \") | (df_new.Crop==\"Potato\") | (df_new.Crop==\"Tomato\") | (df_new.Crop==\"Tea\") | (df_new.Crop==\"Coffee\")]"
   ]
  },
  {
   "cell_type": "code",
   "execution_count": 42,
   "metadata": {},
   "outputs": [
    {
     "data": {
      "text/plain": [
       "array(['Rice', 'Cashewnut', 'Coconut ', 'Sugarcane', 'Onion', 'Wheat',\n",
       "       'Potato', 'Tomato', 'Tea', 'Coffee'], dtype=object)"
      ]
     },
     "execution_count": 42,
     "metadata": {},
     "output_type": "execute_result"
    }
   ],
   "source": [
    "df_crop[\"Crop\"].unique()"
   ]
  },
  {
   "cell_type": "code",
   "execution_count": 43,
   "metadata": {},
   "outputs": [],
   "source": [
    "df_nodis=df_crop.drop(\"District_Name\",axis=1)"
   ]
  },
  {
   "cell_type": "code",
   "execution_count": 44,
   "metadata": {},
   "outputs": [
    {
     "data": {
      "text/html": [
       "<div>\n",
       "<style scoped>\n",
       "    .dataframe tbody tr th:only-of-type {\n",
       "        vertical-align: middle;\n",
       "    }\n",
       "\n",
       "    .dataframe tbody tr th {\n",
       "        vertical-align: top;\n",
       "    }\n",
       "\n",
       "    .dataframe thead th {\n",
       "        text-align: right;\n",
       "    }\n",
       "</style>\n",
       "<table border=\"1\" class=\"dataframe\">\n",
       "  <thead>\n",
       "    <tr style=\"text-align: right;\">\n",
       "      <th></th>\n",
       "      <th>State_Name</th>\n",
       "      <th>Crop_Year</th>\n",
       "      <th>Season</th>\n",
       "      <th>Crop</th>\n",
       "      <th>Area</th>\n",
       "      <th>Production</th>\n",
       "    </tr>\n",
       "  </thead>\n",
       "  <tbody>\n",
       "    <tr>\n",
       "      <th>12</th>\n",
       "      <td>Andaman and Nicobar Islands</td>\n",
       "      <td>2001</td>\n",
       "      <td>Kharif</td>\n",
       "      <td>Rice</td>\n",
       "      <td>83.0</td>\n",
       "      <td>300</td>\n",
       "    </tr>\n",
       "    <tr>\n",
       "      <th>13</th>\n",
       "      <td>Andaman and Nicobar Islands</td>\n",
       "      <td>2001</td>\n",
       "      <td>Whole Year</td>\n",
       "      <td>Cashewnut</td>\n",
       "      <td>719.0</td>\n",
       "      <td>192</td>\n",
       "    </tr>\n",
       "    <tr>\n",
       "      <th>14</th>\n",
       "      <td>Andaman and Nicobar Islands</td>\n",
       "      <td>2001</td>\n",
       "      <td>Whole Year</td>\n",
       "      <td>Coconut</td>\n",
       "      <td>18190.0</td>\n",
       "      <td>64430000</td>\n",
       "    </tr>\n",
       "    <tr>\n",
       "      <th>16</th>\n",
       "      <td>Andaman and Nicobar Islands</td>\n",
       "      <td>2001</td>\n",
       "      <td>Whole Year</td>\n",
       "      <td>Sugarcane</td>\n",
       "      <td>1.0</td>\n",
       "      <td>1</td>\n",
       "    </tr>\n",
       "    <tr>\n",
       "      <th>18</th>\n",
       "      <td>Andaman and Nicobar Islands</td>\n",
       "      <td>2002</td>\n",
       "      <td>Kharif</td>\n",
       "      <td>Rice</td>\n",
       "      <td>189.2</td>\n",
       "      <td>510.84</td>\n",
       "    </tr>\n",
       "  </tbody>\n",
       "</table>\n",
       "</div>"
      ],
      "text/plain": [
       "                     State_Name  Crop_Year       Season       Crop     Area  \\\n",
       "12  Andaman and Nicobar Islands       2001  Kharif            Rice     83.0   \n",
       "13  Andaman and Nicobar Islands       2001  Whole Year   Cashewnut    719.0   \n",
       "14  Andaman and Nicobar Islands       2001  Whole Year    Coconut   18190.0   \n",
       "16  Andaman and Nicobar Islands       2001  Whole Year   Sugarcane      1.0   \n",
       "18  Andaman and Nicobar Islands       2002  Kharif            Rice    189.2   \n",
       "\n",
       "   Production  \n",
       "12        300  \n",
       "13        192  \n",
       "14   64430000  \n",
       "16          1  \n",
       "18     510.84  "
      ]
     },
     "execution_count": 44,
     "metadata": {},
     "output_type": "execute_result"
    }
   ],
   "source": [
    "df_nodis.head()"
   ]
  },
  {
   "cell_type": "code",
   "execution_count": 45,
   "metadata": {},
   "outputs": [],
   "source": [
    "df_nodis.Production=pd.to_numeric(df_nodis.Production, errors='coerce').astype('float64')"
   ]
  },
  {
   "cell_type": "code",
   "execution_count": 46,
   "metadata": {},
   "outputs": [
    {
     "data": {
      "text/plain": [
       "202"
      ]
     },
     "execution_count": 46,
     "metadata": {},
     "output_type": "execute_result"
    }
   ],
   "source": [
    "df_nodis['Production'].isnull().sum()"
   ]
  },
  {
   "cell_type": "code",
   "execution_count": 47,
   "metadata": {},
   "outputs": [],
   "source": [
    "df_nodis=df_nodis.dropna()"
   ]
  },
  {
   "cell_type": "code",
   "execution_count": 48,
   "metadata": {},
   "outputs": [
    {
     "data": {
      "text/html": [
       "<div>\n",
       "<style scoped>\n",
       "    .dataframe tbody tr th:only-of-type {\n",
       "        vertical-align: middle;\n",
       "    }\n",
       "\n",
       "    .dataframe tbody tr th {\n",
       "        vertical-align: top;\n",
       "    }\n",
       "\n",
       "    .dataframe thead th {\n",
       "        text-align: right;\n",
       "    }\n",
       "</style>\n",
       "<table border=\"1\" class=\"dataframe\">\n",
       "  <thead>\n",
       "    <tr style=\"text-align: right;\">\n",
       "      <th></th>\n",
       "      <th>State_Name</th>\n",
       "      <th>Crop_Year</th>\n",
       "      <th>Season</th>\n",
       "      <th>Crop</th>\n",
       "      <th>Area</th>\n",
       "      <th>Production</th>\n",
       "    </tr>\n",
       "  </thead>\n",
       "  <tbody>\n",
       "    <tr>\n",
       "      <th>12</th>\n",
       "      <td>Andaman and Nicobar Islands</td>\n",
       "      <td>2001</td>\n",
       "      <td>Kharif</td>\n",
       "      <td>Rice</td>\n",
       "      <td>83.0</td>\n",
       "      <td>300.00</td>\n",
       "    </tr>\n",
       "    <tr>\n",
       "      <th>13</th>\n",
       "      <td>Andaman and Nicobar Islands</td>\n",
       "      <td>2001</td>\n",
       "      <td>Whole Year</td>\n",
       "      <td>Cashewnut</td>\n",
       "      <td>719.0</td>\n",
       "      <td>192.00</td>\n",
       "    </tr>\n",
       "    <tr>\n",
       "      <th>14</th>\n",
       "      <td>Andaman and Nicobar Islands</td>\n",
       "      <td>2001</td>\n",
       "      <td>Whole Year</td>\n",
       "      <td>Coconut</td>\n",
       "      <td>18190.0</td>\n",
       "      <td>64430000.00</td>\n",
       "    </tr>\n",
       "    <tr>\n",
       "      <th>16</th>\n",
       "      <td>Andaman and Nicobar Islands</td>\n",
       "      <td>2001</td>\n",
       "      <td>Whole Year</td>\n",
       "      <td>Sugarcane</td>\n",
       "      <td>1.0</td>\n",
       "      <td>1.00</td>\n",
       "    </tr>\n",
       "    <tr>\n",
       "      <th>18</th>\n",
       "      <td>Andaman and Nicobar Islands</td>\n",
       "      <td>2002</td>\n",
       "      <td>Kharif</td>\n",
       "      <td>Rice</td>\n",
       "      <td>189.2</td>\n",
       "      <td>510.84</td>\n",
       "    </tr>\n",
       "  </tbody>\n",
       "</table>\n",
       "</div>"
      ],
      "text/plain": [
       "                     State_Name  Crop_Year       Season       Crop     Area  \\\n",
       "12  Andaman and Nicobar Islands       2001  Kharif            Rice     83.0   \n",
       "13  Andaman and Nicobar Islands       2001  Whole Year   Cashewnut    719.0   \n",
       "14  Andaman and Nicobar Islands       2001  Whole Year    Coconut   18190.0   \n",
       "16  Andaman and Nicobar Islands       2001  Whole Year   Sugarcane      1.0   \n",
       "18  Andaman and Nicobar Islands       2002  Kharif            Rice    189.2   \n",
       "\n",
       "     Production  \n",
       "12       300.00  \n",
       "13       192.00  \n",
       "14  64430000.00  \n",
       "16         1.00  \n",
       "18       510.84  "
      ]
     },
     "execution_count": 48,
     "metadata": {},
     "output_type": "execute_result"
    }
   ],
   "source": [
    "df_nodis.head()"
   ]
  },
  {
   "cell_type": "code",
   "execution_count": 49,
   "metadata": {},
   "outputs": [],
   "source": [
    "df_nodis=df_nodis.sample(frac=1)"
   ]
  },
  {
   "cell_type": "code",
   "execution_count": 50,
   "metadata": {},
   "outputs": [
    {
     "data": {
      "text/html": [
       "<div>\n",
       "<style scoped>\n",
       "    .dataframe tbody tr th:only-of-type {\n",
       "        vertical-align: middle;\n",
       "    }\n",
       "\n",
       "    .dataframe tbody tr th {\n",
       "        vertical-align: top;\n",
       "    }\n",
       "\n",
       "    .dataframe thead th {\n",
       "        text-align: right;\n",
       "    }\n",
       "</style>\n",
       "<table border=\"1\" class=\"dataframe\">\n",
       "  <thead>\n",
       "    <tr style=\"text-align: right;\">\n",
       "      <th></th>\n",
       "      <th>State_Name</th>\n",
       "      <th>Crop_Year</th>\n",
       "      <th>Season</th>\n",
       "      <th>Crop</th>\n",
       "      <th>Area</th>\n",
       "      <th>Production</th>\n",
       "    </tr>\n",
       "  </thead>\n",
       "  <tbody>\n",
       "    <tr>\n",
       "      <th>117776</th>\n",
       "      <td>Madhya Pradesh</td>\n",
       "      <td>2013</td>\n",
       "      <td>Kharif</td>\n",
       "      <td>Rice</td>\n",
       "      <td>364.0</td>\n",
       "      <td>236.0</td>\n",
       "    </tr>\n",
       "    <tr>\n",
       "      <th>4338</th>\n",
       "      <td>Andhra Pradesh</td>\n",
       "      <td>2004</td>\n",
       "      <td>Whole Year</td>\n",
       "      <td>Coconut</td>\n",
       "      <td>1693.0</td>\n",
       "      <td>19892568.0</td>\n",
       "    </tr>\n",
       "    <tr>\n",
       "      <th>137657</th>\n",
       "      <td>Maharashtra</td>\n",
       "      <td>2004</td>\n",
       "      <td>Whole Year</td>\n",
       "      <td>Sugarcane</td>\n",
       "      <td>3000.0</td>\n",
       "      <td>199600.0</td>\n",
       "    </tr>\n",
       "    <tr>\n",
       "      <th>240518</th>\n",
       "      <td>West Bengal</td>\n",
       "      <td>2004</td>\n",
       "      <td>Rabi</td>\n",
       "      <td>Wheat</td>\n",
       "      <td>9384.0</td>\n",
       "      <td>22128.0</td>\n",
       "    </tr>\n",
       "    <tr>\n",
       "      <th>89526</th>\n",
       "      <td>Karnataka</td>\n",
       "      <td>2010</td>\n",
       "      <td>Whole Year</td>\n",
       "      <td>Cashewnut</td>\n",
       "      <td>6.0</td>\n",
       "      <td>4.0</td>\n",
       "    </tr>\n",
       "  </tbody>\n",
       "</table>\n",
       "</div>"
      ],
      "text/plain": [
       "            State_Name  Crop_Year       Season       Crop    Area  Production\n",
       "117776  Madhya Pradesh       2013  Kharif            Rice   364.0       236.0\n",
       "4338    Andhra Pradesh       2004  Whole Year    Coconut   1693.0  19892568.0\n",
       "137657     Maharashtra       2004  Whole Year   Sugarcane  3000.0    199600.0\n",
       "240518     West Bengal       2004  Rabi             Wheat  9384.0     22128.0\n",
       "89526        Karnataka       2010  Whole Year   Cashewnut     6.0         4.0"
      ]
     },
     "execution_count": 50,
     "metadata": {},
     "output_type": "execute_result"
    }
   ],
   "source": [
    "df_nodis.head()"
   ]
  },
  {
   "cell_type": "code",
   "execution_count": 51,
   "metadata": {},
   "outputs": [],
   "source": [
    "df_nodis.to_csv(\"C:/Users/evils boi/Desktop/prepronew.csv\")"
   ]
  },
  {
   "cell_type": "code",
   "execution_count": 52,
   "metadata": {},
   "outputs": [],
   "source": [
    "data=df_nodis"
   ]
  },
  {
   "cell_type": "markdown",
   "metadata": {},
   "source": [
    "# Data Visualisation"
   ]
  },
  {
   "cell_type": "code",
   "execution_count": 17,
   "metadata": {},
   "outputs": [
    {
     "name": "stderr",
     "output_type": "stream",
     "text": [
      "C:\\Users\\evils boi\\anaconda3\\envs\\harpsl\\lib\\site-packages\\seaborn\\_decorators.py:43: FutureWarning: Pass the following variables as keyword args: x, y. From version 0.12, the only valid positional argument will be `data`, and passing other arguments without an explicit keyword will result in an error or misinterpretation.\n",
      "  FutureWarning\n"
     ]
    },
    {
     "data": {
      "text/plain": [
       "<AxesSubplot:xlabel='Crop_Year', ylabel='Production'>"
      ]
     },
     "execution_count": 17,
     "metadata": {},
     "output_type": "execute_result"
    },
    {
     "data": {
      "image/png": "[encoded data removed]",
      "text/plain": [
       "<Figure size 432x288 with 1 Axes>"
      ]
     },
     "metadata": {
      "needs_background": "light"
     },
     "output_type": "display_data"
    }
   ],
   "source": [
    "sns.lineplot(data[\"Crop_Year\"],data[\"Production\"])"
   ]
  },
  {
   "cell_type": "code",
   "execution_count": 21,
   "metadata": {},
   "outputs": [
    {
     "name": "stderr",
     "output_type": "stream",
     "text": [
      "C:\\Users\\evils boi\\anaconda3\\envs\\harpsl\\lib\\site-packages\\seaborn\\_decorators.py:43: FutureWarning: Pass the following variables as keyword args: x, y. From version 0.12, the only valid positional argument will be `data`, and passing other arguments without an explicit keyword will result in an error or misinterpretation.\n",
      "  FutureWarning\n"
     ]
    },
    {
     "data": {
      "text/plain": [
       "(array([ 0,  1,  2,  3,  4,  5,  6,  7,  8,  9, 10, 11, 12, 13, 14, 15, 16,\n",
       "        17, 18, 19, 20, 21, 22, 23, 24, 25, 26, 27, 28, 29, 30, 31, 32]),\n",
       " [Text(0, 0, 'Jharkhand'),\n",
       "  Text(1, 0, 'Uttar Pradesh'),\n",
       "  Text(2, 0, 'Uttarakhand'),\n",
       "  Text(3, 0, 'Bihar'),\n",
       "  Text(4, 0, 'Tamil Nadu'),\n",
       "  Text(5, 0, 'Karnataka'),\n",
       "  Text(6, 0, 'Andhra Pradesh'),\n",
       "  Text(7, 0, 'Arunachal Pradesh'),\n",
       "  Text(8, 0, 'Maharashtra'),\n",
       "  Text(9, 0, 'Madhya Pradesh'),\n",
       "  Text(10, 0, 'Haryana'),\n",
       "  Text(11, 0, 'Assam'),\n",
       "  Text(12, 0, 'Chhattisgarh'),\n",
       "  Text(13, 0, 'Goa'),\n",
       "  Text(14, 0, 'Rajasthan'),\n",
       "  Text(15, 0, 'Tripura'),\n",
       "  Text(16, 0, 'Gujarat'),\n",
       "  Text(17, 0, 'Nagaland'),\n",
       "  Text(18, 0, 'West Bengal'),\n",
       "  Text(19, 0, 'Telangana '),\n",
       "  Text(20, 0, 'Odisha'),\n",
       "  Text(21, 0, 'Himachal Pradesh'),\n",
       "  Text(22, 0, 'Puducherry'),\n",
       "  Text(23, 0, 'Punjab'),\n",
       "  Text(24, 0, 'Kerala'),\n",
       "  Text(25, 0, 'Manipur'),\n",
       "  Text(26, 0, 'Meghalaya'),\n",
       "  Text(27, 0, 'Jammu and Kashmir '),\n",
       "  Text(28, 0, 'Mizoram'),\n",
       "  Text(29, 0, 'Andaman and Nicobar Islands'),\n",
       "  Text(30, 0, 'Dadra and Nagar Haveli'),\n",
       "  Text(31, 0, 'Chandigarh'),\n",
       "  Text(32, 0, 'Sikkim')])"
      ]
     },
     "execution_count": 21,
     "metadata": {},
     "output_type": "execute_result"
    },
    {
     "data": {
      "image/png": "[encoded data removed]",
      "text/plain": [
       "<Figure size 1800x720 with 1 Axes>"
      ]
     },
     "metadata": {
      "needs_background": "light"
     },
     "output_type": "display_data"
    }
   ],
   "source": [
    "plt.figure(figsize=(25,10))\n",
    "sns.barplot(data[\"State_Name\"],data[\"Production\"])\n",
    "plt.xticks(rotation=90)"
   ]
  },
  {
   "cell_type": "code",
   "execution_count": 22,
   "metadata": {},
   "outputs": [
    {
     "name": "stderr",
     "output_type": "stream",
     "text": [
      "C:\\Users\\evils boi\\anaconda3\\envs\\harpsl\\lib\\site-packages\\seaborn\\_decorators.py:43: FutureWarning: Pass the following variables as keyword args: x, y. From version 0.12, the only valid positional argument will be `data`, and passing other arguments without an explicit keyword will result in an error or misinterpretation.\n",
      "  FutureWarning\n"
     ]
    },
    {
     "data": {
      "text/plain": [
       "<AxesSubplot:xlabel='Season', ylabel='Production'>"
      ]
     },
     "execution_count": 22,
     "metadata": {},
     "output_type": "execute_result"
    },
    {
     "data": {
      "image/png": "[encoded data removed]",
      "text/plain": [
       "<Figure size 432x288 with 1 Axes>"
      ]
     },
     "metadata": {
      "needs_background": "light"
     },
     "output_type": "display_data"
    }
   ],
   "source": [
    "sns.barplot(data[\"Season\"],data[\"Production\"])"
   ]
  },
  {
   "cell_type": "markdown",
   "metadata": {},
   "source": [
    "# Model"
   ]
  },
  {
   "cell_type": "code",
   "execution_count": 62,
   "metadata": {},
   "outputs": [],
   "source": [
    "import tensorflow as tf\n",
    "from tensorflow import keras\n",
    "from tensorflow.keras.models import Sequential\n",
    "from tensorflow.keras.layers import Dense\n",
    "from tensorflow.keras.callbacks import TensorBoard\n",
    "from sklearn.metrics import classification_report"
   ]
  },
  {
   "cell_type": "code",
   "execution_count": 63,
   "metadata": {},
   "outputs": [
    {
     "name": "stdout",
     "output_type": "stream",
     "text": [
      "x_train : (30401, 51)\n",
      "x_test : (8575, 51)\n",
      "y_train : (30401, 1)\n",
      "y_test : (8575, 1)\n"
     ]
    }
   ],
   "source": [
    "data_dum = pd.get_dummies(data)\n",
    "\n",
    "x = data_dum.drop(\"Production\",axis=1)\n",
    "y = data_dum[[\"Production\"]]\n",
    "from sklearn.model_selection import train_test_split\n",
    "x_train,x_test,y_train,y_test = train_test_split(x,y,test_size=0.22, random_state=42)\n",
    "print(\"x_train :\",x_train.shape)\n",
    "print(\"x_test :\",x_test.shape)\n",
    "print(\"y_train :\",y_train.shape)\n",
    "print(\"y_test :\",y_test.shape)"
   ]
  },
  {
   "cell_type": "code",
   "execution_count": 93,
   "metadata": {},
   "outputs": [],
   "source": [
    "model = Sequential([\n",
    "    Dense(units=100, activation=\"sigmoid\", input_shape=(x_train.shape[1],), name=\"h1\"),\n",
    "    Dense(units=200, activation=\"sigmoid\", name=\"h2\"),\n",
    "    Dense(units=100, activation=\"sigmoid\", name=\"h3\"),\n",
    "    Dense(units=1, activation=\"relu\", name=\"output\")\n",
    "    ])"
   ]
  },
  {
   "cell_type": "code",
   "execution_count": 94,
   "metadata": {},
   "outputs": [],
   "source": [
    "model.compile(optimizer=\"rmsprop\", loss=\"mse\", metrics=[\"accuracy\"])"
   ]
  },
  {
   "cell_type": "code",
   "execution_count": 95,
   "metadata": {},
   "outputs": [
    {
     "name": "stdout",
     "output_type": "stream",
     "text": [
      "Train on 24320 samples, validate on 6081 samples\n",
      "Epoch 1/100\n",
      "24320/24320 [==============================] - 1s 29us/sample - loss: 1725210880321643.7500 - acc: 0.0032 - val_loss: 1440271380250624.0000 - val_acc: 0.0023\n",
      "Epoch 2/100\n",
      "24320/24320 [==============================] - 0s 11us/sample - loss: 1725210846767211.7500 - acc: 0.0032 - val_loss: 1440271246032896.0000 - val_acc: 0.0023\n",
      "Epoch 3/100\n",
      "24320/24320 [==============================] - 0s 9us/sample - loss: 1725210905928973.5000 - acc: 0.0032 - val_loss: 1440271514468352.0000 - val_acc: 0.0023\n",
      "Epoch 4/100\n",
      "24320/24320 [==============================] - 0s 8us/sample - loss: 1725211086063292.7500 - acc: 0.0032 - val_loss: 1440271782903808.0000 - val_acc: 0.0023\n",
      "Epoch 5/100\n",
      "24320/24320 [==============================] - 0s 8us/sample - loss: 1725210984516985.2500 - acc: 0.0032 - val_loss: 1440271514468352.0000 - val_acc: 0.0023\n",
      "Epoch 6/100\n",
      "24320/24320 [==============================] - 0s 8us/sample - loss: 1725210765530165.7500 - acc: 0.0032 - val_loss: 1440272051339264.0000 - val_acc: 0.0023\n",
      "Epoch 7/100\n",
      "24320/24320 [==============================] - 0s 8us/sample - loss: 1725210920940166.7500 - acc: 0.0032 - val_loss: 1440271648686080.0000 - val_acc: 0.0023\n",
      "Epoch 8/100\n",
      "24320/24320 [==============================] - 0s 9us/sample - loss: 1725211074584145.0000 - acc: 0.0032 - val_loss: 1440271514468352.0000 - val_acc: 0.0023\n",
      "Epoch 9/100\n",
      "24320/24320 [==============================] - 0s 8us/sample - loss: 1725210930653291.7500 - acc: 0.0032 - val_loss: 1440271514468352.0000 - val_acc: 0.0023\n",
      "Epoch 10/100\n",
      "24320/24320 [==============================] - 0s 9us/sample - loss: 1725211047210792.2500 - acc: 0.0032 - val_loss: 1440271648686080.0000 - val_acc: 0.0023\n",
      "Epoch 11/100\n",
      "24320/24320 [==============================] - 0s 9us/sample - loss: 1725211063104997.0000 - acc: 0.0032 - val_loss: 1440271648686080.0000 - val_acc: 0.0023\n",
      "Epoch 12/100\n",
      "24320/24320 [==============================] - 0s 9us/sample - loss: 1725211134628917.7500 - acc: 0.0032 - val_loss: 1440271648686080.0000 - val_acc: 0.0023\n",
      "Epoch 13/100\n",
      "24320/24320 [==============================] - 0s 9us/sample - loss: 1725210862661416.2500 - acc: 0.0032 - val_loss: 1440271648686080.0000 - val_acc: 0.0023\n",
      "Epoch 14/100\n",
      "24320/24320 [==============================] - 0s 9us/sample - loss: 1725211056923917.5000 - acc: 0.0032 - val_loss: 1440271648686080.0000 - val_acc: 0.0023\n",
      "Epoch 15/100\n",
      "24320/24320 [==============================] - 0s 10us/sample - loss: 1725210832639029.7500 - acc: 0.0032 - val_loss: 1440271514468352.0000 - val_acc: 0.0023\n",
      "Epoch 16/100\n",
      "24320/24320 [==============================] - 1s 23us/sample - loss: 1725211171715395.2500 - acc: 0.0032 - val_loss: 1440271917121536.0000 - val_acc: 0.0023\n",
      "Epoch 17/100\n",
      "24320/24320 [==============================] - 1s 22us/sample - loss: 1725211015422383.0000 - acc: 0.0032 - val_loss: 1440271514468352.0000 - val_acc: 0.0023\n",
      "Epoch 18/100\n",
      "24320/24320 [==============================] - 0s 8us/sample - loss: 1725210955377610.2500 - acc: 0.0032 - val_loss: 1440271648686080.0000 - val_acc: 0.0023\n",
      "Epoch 19/100\n",
      "24320/24320 [==============================] - 0s 9us/sample - loss: 1725211002618718.5000 - acc: 0.0032 - val_loss: 1440271380250624.0000 - val_acc: 0.0023\n",
      "Epoch 20/100\n",
      "24320/24320 [==============================] - 0s 8us/sample - loss: 1725210855597325.5000 - acc: 0.0032 - val_loss: 1440271782903808.0000 - val_acc: 0.0023\n",
      "Epoch 21/100\n",
      "24320/24320 [==============================] - 0s 9us/sample - loss: 1725211078999201.5000 - acc: 0.0032 - val_loss: 1440271917121536.0000 - val_acc: 0.0023\n",
      "Epoch 22/100\n",
      "24320/24320 [==============================] - 1s 22us/sample - loss: 1725210928887269.0000 - acc: 0.0032 - val_loss: 1440271246032896.0000 - val_acc: 0.0023\n",
      "Epoch 23/100\n",
      "24320/24320 [==============================] - 1s 21us/sample - loss: 1725210921823178.2500 - acc: 0.0032 - val_loss: 1440271514468352.0000 - val_acc: 0.0023\n",
      "Epoch 24/100\n",
      "24320/24320 [==============================] - 0s 20us/sample - loss: 1725211056923917.5000 - acc: 0.0032 - val_loss: 1440271782903808.0000 - val_acc: 0.0023\n",
      "Epoch 25/100\n",
      "24320/24320 [==============================] - 0s 20us/sample - loss: 1725210878555621.0000 - acc: 0.0032 - val_loss: 1440271514468352.0000 - val_acc: 0.0023\n",
      "Epoch 26/100\n",
      "24320/24320 [==============================] - 1s 21us/sample - loss: 1725210983633973.7500 - acc: 0.0032 - val_loss: 1440271514468352.0000 - val_acc: 0.0023\n",
      "Epoch 27/100\n",
      "24320/24320 [==============================] - 1s 22us/sample - loss: 1725211088712326.7500 - acc: 0.0032 - val_loss: 1440271648686080.0000 - val_acc: 0.0023\n",
      "Epoch 28/100\n",
      "24320/24320 [==============================] - 0s 21us/sample - loss: 1725211089153832.2500 - acc: 0.0032 - val_loss: 1440271782903808.0000 - val_acc: 0.0023\n",
      "Epoch 29/100\n",
      "24320/24320 [==============================] - 1s 21us/sample - loss: 1725211058689940.2500 - acc: 0.0032 - val_loss: 1440271917121536.0000 - val_acc: 0.0023\n",
      "Epoch 30/100\n",
      "24320/24320 [==============================] - 1s 21us/sample - loss: 1725210945664485.0000 - acc: 0.0032 - val_loss: 1440271782903808.0000 - val_acc: 0.0023\n",
      "Epoch 31/100\n",
      "24320/24320 [==============================] - 0s 14us/sample - loss: 1725211030433576.2500 - acc: 0.0032 - val_loss: 1440271648686080.0000 - val_acc: 0.0023\n",
      "Epoch 32/100\n",
      "24320/24320 [==============================] - 0s 9us/sample - loss: 1725211191141645.5000 - acc: 0.0032 - val_loss: 1440271514468352.0000 - val_acc: 0.0023\n",
      "Epoch 33/100\n",
      "24320/24320 [==============================] - 0s 10us/sample - loss: 1725210885619712.0000 - acc: 0.0032 - val_loss: 1440271648686080.0000 - val_acc: 0.0023\n",
      "Epoch 34/100\n",
      "24320/24320 [==============================] - 0s 8us/sample - loss: 1725210942132439.7500 - acc: 0.0032 - val_loss: 1440271782903808.0000 - val_acc: 0.0023\n",
      "Epoch 35/100\n",
      "24320/24320 [==============================] - 0s 8us/sample - loss: 1725211033965621.7500 - acc: 0.0032 - val_loss: 1440271782903808.0000 - val_acc: 0.0023\n",
      "Epoch 36/100\n",
      "24320/24320 [==============================] - 0s 8us/sample - loss: 1725211027784542.5000 - acc: 0.0032 - val_loss: 1440271782903808.0000 - val_acc: 0.0023\n",
      "Epoch 37/100\n",
      "24320/24320 [==============================] - 0s 8us/sample - loss: 1725210858246359.7500 - acc: 0.0032 - val_loss: 1440271246032896.0000 - val_acc: 0.0023\n",
      "Epoch 38/100\n",
      "24320/24320 [==============================] - 0s 8us/sample - loss: 1725211064871019.7500 - acc: 0.0032 - val_loss: 1440271514468352.0000 - val_acc: 0.0023\n",
      "Epoch 39/100\n",
      "24320/24320 [==============================] - 0s 8us/sample - loss: 1725210985399996.7500 - acc: 0.0032 - val_loss: 1440271782903808.0000 - val_acc: 0.0023\n",
      "Epoch 40/100\n",
      "24320/24320 [==============================] - 0s 7us/sample - loss: 1725211094893406.5000 - acc: 0.0032 - val_loss: 1440271246032896.0000 - val_acc: 0.0023\n",
      "Epoch 41/100\n",
      "24320/24320 [==============================] - 0s 16us/sample - loss: 1725210883853689.2500 - acc: 0.0032 - val_loss: 1440271514468352.0000 - val_acc: 0.0023\n",
      "Epoch 42/100\n",
      "24320/24320 [==============================] - 0s 18us/sample - loss: 1725211029109059.2500 - acc: 0.0032 - val_loss: 1440271514468352.0000 - val_acc: 0.0023\n",
      "Epoch 43/100\n",
      "24320/24320 [==============================] - 0s 18us/sample - loss: 1725210906811985.0000 - acc: 0.0032 - val_loss: 1440271246032896.0000 - val_acc: 0.0023\n",
      "Epoch 44/100\n",
      "24320/24320 [==============================] - 0s 18us/sample - loss: 1725210991581076.2500 - acc: 0.0032 - val_loss: 1440272051339264.0000 - val_acc: 0.0023\n",
      "Epoch 45/100\n",
      "24320/24320 [==============================] - 0s 18us/sample - loss: 1725211019837440.0000 - acc: 0.0032 - val_loss: 1440271782903808.0000 - val_acc: 0.0023\n",
      "Epoch 46/100\n",
      "24320/24320 [==============================] - 1s 21us/sample - loss: 1725210977452894.5000 - acc: 0.0032 - val_loss: 1440271648686080.0000 - val_acc: 0.0023\n",
      "Epoch 47/100\n",
      "24320/24320 [==============================] - 0s 19us/sample - loss: 1725210935068348.7500 - acc: 0.0032 - val_loss: 1440271514468352.0000 - val_acc: 0.0023\n",
      "Epoch 48/100\n",
      "24320/24320 [==============================] - 0s 18us/sample - loss: 1725211009682809.2500 - acc: 0.0032 - val_loss: 1440271514468352.0000 - val_acc: 0.0023\n"
     ]
    },
    {
     "name": "stdout",
     "output_type": "stream",
     "text": [
      "Epoch 49/100\n",
      "24320/24320 [==============================] - 0s 18us/sample - loss: 1725210988490536.2500 - acc: 0.0032 - val_loss: 1440271514468352.0000 - val_acc: 0.0023\n",
      "Epoch 50/100\n",
      "24320/24320 [==============================] - 0s 20us/sample - loss: 1725211169066361.2500 - acc: 0.0032 - val_loss: 1440271380250624.0000 - val_acc: 0.0023\n",
      "Epoch 51/100\n",
      "24320/24320 [==============================] - 0s 18us/sample - loss: 1725211058689940.2500 - acc: 0.0032 - val_loss: 1440271782903808.0000 - val_acc: 0.0023\n",
      "Epoch 52/100\n",
      "24320/24320 [==============================] - 0s 17us/sample - loss: 1725210960675678.5000 - acc: 0.0032 - val_loss: 1440271648686080.0000 - val_acc: 0.0023\n",
      "Epoch 53/100\n",
      "24320/24320 [==============================] - 0s 19us/sample - loss: 1725211116085679.0000 - acc: 0.0032 - val_loss: 1440271514468352.0000 - val_acc: 0.0023\n",
      "Epoch 54/100\n",
      "24320/24320 [==============================] - 0s 19us/sample - loss: 1725211134628917.7500 - acc: 0.0032 - val_loss: 1440271246032896.0000 - val_acc: 0.0023\n",
      "Epoch 55/100\n",
      "24320/24320 [==============================] - 0s 18us/sample - loss: 1725211231760168.2500 - acc: 0.0032 - val_loss: 1440271380250624.0000 - val_acc: 0.0023\n",
      "Epoch 56/100\n",
      "24320/24320 [==============================] - 0s 20us/sample - loss: 1725211169066361.2500 - acc: 0.0032 - val_loss: 1440271648686080.0000 - val_acc: 0.0023\n",
      "Epoch 57/100\n",
      "24320/24320 [==============================] - 1s 21us/sample - loss: 1725211139926986.2500 - acc: 0.0032 - val_loss: 1440271514468352.0000 - val_acc: 0.0023\n",
      "Epoch 58/100\n",
      "24320/24320 [==============================] - 0s 12us/sample - loss: 1725211176130452.2500 - acc: 0.0032 - val_loss: 1440271648686080.0000 - val_acc: 0.0023\n",
      "Epoch 59/100\n",
      "24320/24320 [==============================] - 0s 8us/sample - loss: 1725211079882213.0000 - acc: 0.0032 - val_loss: 1440271782903808.0000 - val_acc: 0.0023\n",
      "Epoch 60/100\n",
      "24320/24320 [==============================] - 0s 9us/sample - loss: 1725211182753037.5000 - acc: 0.0032 - val_loss: 1440271648686080.0000 - val_acc: 0.0023\n",
      "Epoch 61/100\n",
      "24320/24320 [==============================] - 0s 9us/sample - loss: 1725210985399996.7500 - acc: 0.0032 - val_loss: 1440271246032896.0000 - val_acc: 0.0023\n",
      "Epoch 62/100\n",
      "24320/24320 [==============================] - 0s 9us/sample - loss: 1725210783190393.2500 - acc: 0.0032 - val_loss: 1440271782903808.0000 - val_acc: 0.0023\n",
      "Epoch 63/100\n",
      "24320/24320 [==============================] - 0s 8us/sample - loss: 1725211169066361.2500 - acc: 0.0032 - val_loss: 1440271514468352.0000 - val_acc: 0.0023\n",
      "Epoch 64/100\n",
      "24320/24320 [==============================] - 0s 7us/sample - loss: 1725211086063292.7500 - acc: 0.0032 - val_loss: 1440271380250624.0000 - val_acc: 0.0023\n",
      "Epoch 65/100\n",
      "24320/24320 [==============================] - 0s 8us/sample - loss: 1725210986283008.0000 - acc: 0.0032 - val_loss: 1440271648686080.0000 - val_acc: 0.0023\n",
      "Epoch 66/100\n",
      "24320/24320 [==============================] - 0s 8us/sample - loss: 1725210973037837.5000 - acc: 0.0032 - val_loss: 1440271917121536.0000 - val_acc: 0.0023\n",
      "Epoch 67/100\n",
      "24320/24320 [==============================] - 0s 10us/sample - loss: 1725211052508860.7500 - acc: 0.0032 - val_loss: 1440271648686080.0000 - val_acc: 0.0023\n",
      "Epoch 68/100\n",
      "24320/24320 [==============================] - 0s 9us/sample - loss: 1725210812329768.2500 - acc: 0.0032 - val_loss: 1440271648686080.0000 - val_acc: 0.0023\n",
      "Epoch 69/100\n",
      "24320/24320 [==============================] - 0s 10us/sample - loss: 1725211231760168.2500 - acc: 0.0032 - val_loss: 1440271111815168.0000 - val_acc: 0.0023\n",
      "Epoch 70/100\n",
      "24320/24320 [==============================] - 0s 9us/sample - loss: 1725211041912724.2500 - acc: 0.0032 - val_loss: 1440272051339264.0000 - val_acc: 0.0023\n",
      "Epoch 71/100\n",
      "24320/24320 [==============================] - 0s 8us/sample - loss: 1725210974803860.2500 - acc: 0.0032 - val_loss: 1440271514468352.0000 - val_acc: 0.0023\n",
      "Epoch 72/100\n",
      "24320/24320 [==============================] - 0s 19us/sample - loss: 1725210965973746.5000 - acc: 0.0032 - val_loss: 1440271782903808.0000 - val_acc: 0.0023\n",
      "Epoch 73/100\n",
      "24320/24320 [==============================] - 1s 23us/sample - loss: 1725211012773349.0000 - acc: 0.0032 - val_loss: 1440271917121536.0000 - val_acc: 0.0023\n",
      "Epoch 74/100\n",
      "24320/24320 [==============================] - 0s 19us/sample - loss: 1725211063104997.0000 - acc: 0.0032 - val_loss: 1440271782903808.0000 - val_acc: 0.0023\n",
      "Epoch 75/100\n",
      "24320/24320 [==============================] - 1s 23us/sample - loss: 1725211109021588.2500 - acc: 0.0032 - val_loss: 1440271514468352.0000 - val_acc: 0.0023\n",
      "Epoch 76/100\n",
      "24320/24320 [==============================] - 0s 20us/sample - loss: 1725211078116190.5000 - acc: 0.0032 - val_loss: 1440271514468352.0000 - val_acc: 0.0023\n",
      "Epoch 77/100\n",
      "24320/24320 [==============================] - 1s 21us/sample - loss: 1725211078999201.5000 - acc: 0.0032 - val_loss: 1440271514468352.0000 - val_acc: 0.0023\n",
      "Epoch 78/100\n",
      "24320/24320 [==============================] - 0s 20us/sample - loss: 1725210970388803.2500 - acc: 0.0032 - val_loss: 1440271514468352.0000 - val_acc: 0.0023\n",
      "Epoch 79/100\n",
      "24320/24320 [==============================] - 0s 17us/sample - loss: 1725210968622780.7500 - acc: 0.0032 - val_loss: 1440271246032896.0000 - val_acc: 0.0023\n",
      "Epoch 80/100\n",
      "24320/24320 [==============================] - 0s 20us/sample - loss: 1725210886502723.2500 - acc: 0.0032 - val_loss: 1440271782903808.0000 - val_acc: 0.0023\n",
      "Epoch 81/100\n",
      "24320/24320 [==============================] - 0s 19us/sample - loss: 1725210889151757.5000 - acc: 0.0032 - val_loss: 1440271514468352.0000 - val_acc: 0.0023\n",
      "Epoch 82/100\n",
      "24320/24320 [==============================] - 0s 10us/sample - loss: 1725211252069429.7500 - acc: 0.0032 - val_loss: 1440271648686080.0000 - val_acc: 0.0023\n",
      "Epoch 83/100\n",
      "24320/24320 [==============================] - 0s 8us/sample - loss: 1725210939924911.0000 - acc: 0.0032 - val_loss: 1440271514468352.0000 - val_acc: 0.0023\n",
      "Epoch 84/100\n",
      "24320/24320 [==============================] - 0s 8us/sample - loss: 1725211078999201.5000 - acc: 0.0032 - val_loss: 1440271648686080.0000 - val_acc: 0.0023\n",
      "Epoch 85/100\n",
      "24320/24320 [==============================] - 0s 9us/sample - loss: 1725211110787611.0000 - acc: 0.0032 - val_loss: 1440271514468352.0000 - val_acc: 0.0023\n",
      "Epoch 86/100\n",
      "24320/24320 [==============================] - 0s 10us/sample - loss: 1725210831756018.5000 - acc: 0.0032 - val_loss: 1440271380250624.0000 - val_acc: 0.0023\n",
      "Epoch 87/100\n",
      "24320/24320 [==============================] - 0s 8us/sample - loss: 1725211004826246.7500 - acc: 0.0032 - val_loss: 1440271648686080.0000 - val_acc: 0.0023\n",
      "Epoch 88/100\n",
      "24320/24320 [==============================] - 0s 9us/sample - loss: 1725211151406133.7500 - acc: 0.0032 - val_loss: 1440271514468352.0000 - val_acc: 0.0023\n",
      "Epoch 89/100\n",
      "24320/24320 [==============================] - 0s 8us/sample - loss: 1725210892683803.0000 - acc: 0.0032 - val_loss: 1440271648686080.0000 - val_acc: 0.0023\n",
      "Epoch 90/100\n",
      "24320/24320 [==============================] - 0s 8us/sample - loss: 1725211184077554.5000 - acc: 0.0032 - val_loss: 1440271246032896.0000 - val_acc: 0.0023\n",
      "Epoch 91/100\n",
      "24320/24320 [==============================] - 0s 9us/sample - loss: 1725211044561758.5000 - acc: 0.0032 - val_loss: 1440271782903808.0000 - val_acc: 0.0023\n",
      "Epoch 92/100\n",
      "24320/24320 [==============================] - 0s 17us/sample - loss: 1725211116085679.0000 - acc: 0.0032 - val_loss: 1440271782903808.0000 - val_acc: 0.0023\n",
      "Epoch 93/100\n",
      "24320/24320 [==============================] - 0s 17us/sample - loss: 1725211187609600.0000 - acc: 0.0032 - val_loss: 1440271648686080.0000 - val_acc: 0.0023\n",
      "Epoch 94/100\n",
      "24320/24320 [==============================] - 0s 17us/sample - loss: 1725210925355223.7500 - acc: 0.0032 - val_loss: 1440271648686080.0000 - val_acc: 0.0023\n",
      "Epoch 95/100\n",
      "24320/24320 [==============================] - 0s 17us/sample - loss: 1725210789371473.0000 - acc: 0.0032 - val_loss: 1440271648686080.0000 - val_acc: 0.0023\n",
      "Epoch 96/100\n",
      "24320/24320 [==============================] - 0s 17us/sample - loss: 1725211091361361.0000 - acc: 0.0032 - val_loss: 1440271514468352.0000 - val_acc: 0.0023\n",
      "Epoch 97/100\n"
     ]
    },
    {
     "name": "stdout",
     "output_type": "stream",
     "text": [
      "24320/24320 [==============================] - 0s 17us/sample - loss: 1725210720496586.2500 - acc: 0.0032 - val_loss: 1440271648686080.0000 - val_acc: 0.0023\n",
      "Epoch 98/100\n",
      "24320/24320 [==============================] - 0s 17us/sample - loss: 1725210794228035.2500 - acc: 0.0032 - val_loss: 1440271782903808.0000 - val_acc: 0.0023\n",
      "Epoch 99/100\n",
      "24320/24320 [==============================] - 0s 17us/sample - loss: 1725210958909655.7500 - acc: 0.0032 - val_loss: 1440271782903808.0000 - val_acc: 0.0023\n",
      "Epoch 100/100\n",
      "24320/24320 [==============================] - 0s 17us/sample - loss: 1725210876789598.5000 - acc: 0.0032 - val_loss: 1440271648686080.0000 - val_acc: 0.0023\n"
     ]
    }
   ],
   "source": [
    "BATCH_SIZE = 20000\n",
    "EPOCHS = 100\n",
    "\n",
    "history = model.fit(x_train,\n",
    "                      y_train,\n",
    "                      batch_size=BATCH_SIZE,\n",
    "                      epochs=EPOCHS,\n",
    "                      validation_split=0.2,\n",
    "                      verbose=1)"
   ]
  },
  {
   "cell_type": "code",
   "execution_count": 96,
   "metadata": {
    "scrolled": true
   },
   "outputs": [
    {
     "data": {
      "image/png": "[encoded data removed]",
      "text/plain": [
       "<Figure size 432x288 with 1 Axes>"
      ]
     },
     "metadata": {
      "needs_background": "light"
     },
     "output_type": "display_data"
    }
   ],
   "source": [
    "plt.figure(figsize=(6, 4))\n",
    "plt.plot(history.history['acc'], 'r', label='Accuracy of training data')\n",
    "plt.plot(history.history['val_acc'], 'b', label='Accuracy of validation data')\n",
    "plt.plot(history.history['loss'], 'r--', label='Loss of training data')\n",
    "plt.plot(history.history['val_loss'], 'b--', label='Loss of validation data')\n",
    "plt.title('Model Accuracy and Loss')\n",
    "plt.ylabel('Accuracy and Loss')\n",
    "plt.xlabel('Training Epoch')\n",
    "plt.ylim(0)\n",
    "plt.legend()\n",
    "plt.show()\n",
    "\n",
    "y_pred_train = model.predict(x_train)\n",
    "\n",
    "max_y_pred_train = np.argmax(y_pred_train, axis=1)\n"
   ]
  },
  {
   "cell_type": "code",
   "execution_count": null,
   "metadata": {},
   "outputs": [],
   "source": []
  }
 ],
 "metadata": {
  "kernelspec": {
   "display_name": "Python 3",
   "language": "python",
   "name": "python3"
  },
  "language_info": {
   "codemirror_mode": {
    "name": "ipython",
    "version": 3
   },
   "file_extension": ".py",
   "mimetype": "text/x-python",
   "name": "python",
   "nbconvert_exporter": "python",
   "pygments_lexer": "ipython3",
   "version": "3.6.12"
  }
 },
 "nbformat": 4,
 "nbformat_minor": 4
}
